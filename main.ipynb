{
 "cells": [
  {
   "cell_type": "code",
   "execution_count": 1,
   "metadata": {},
   "outputs": [],
   "source": [
    "import pandas as pd\n",
    "from preprocess import preprocess_text  # Import the preprocessing function"
   ]
  },
  {
   "cell_type": "code",
   "execution_count": 2,
   "metadata": {},
   "outputs": [],
   "source": [
    "# Load your CSV data\n",
    "data = pd.read_csv(r'data/nyc-jobs-1.csv', encoding='utf-8')\n",
    "\n",
    "# Selecting the relevant columns to preprocess\n",
    "text_columns = ['Job Description', 'Minimum Qual Requirements', 'Preferred Skills']"
   ]
  },
  {
   "cell_type": "code",
   "execution_count": 3,
   "metadata": {},
   "outputs": [],
   "source": [
    "# Preprocess each text column and store only the lemmatized results\n",
    "for col in text_columns:\n",
    "    # Extract only lemmatized words from the preprocessing function\n",
    "    lemmatized_results = data[col].dropna().apply(lambda x: preprocess_text(str(x))[2])  # [2] for lemmatized words\n",
    "\n",
    "    # Assign the lemmatized results to a new column in the main DataFrame\n",
    "    data[f'{col}_lemmatized'] = lemmatized_results.reindex(data.index, fill_value='')"
   ]
  },
  {
   "cell_type": "code",
   "execution_count": 4,
   "metadata": {},
   "outputs": [],
   "source": [
    "# Filter the DataFrame to include only the lemmatized columns\n",
    "lemmatized_columns = [f'{col}_lemmatized' for col in text_columns]\n",
    "lemmatized_data = data[lemmatized_columns]"
   ]
  },
  {
   "cell_type": "code",
   "execution_count": 5,
   "metadata": {},
   "outputs": [],
   "source": [
    "# Save the lemmatized DataFrame to a new CSV file\n",
    "lemmatized_data.to_csv('processed_nyc_jobs_lemmatized.csv', index=False)"
   ]
  }
 ],
 "metadata": {
  "kernelspec": {
   "display_name": "env",
   "language": "python",
   "name": "python3"
  },
  "language_info": {
   "codemirror_mode": {
    "name": "ipython",
    "version": 3
   },
   "file_extension": ".py",
   "mimetype": "text/x-python",
   "name": "python",
   "nbconvert_exporter": "python",
   "pygments_lexer": "ipython3",
   "version": "3.12.4"
  }
 },
 "nbformat": 4,
 "nbformat_minor": 2
}
